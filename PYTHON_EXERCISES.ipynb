{
  "nbformat": 4,
  "nbformat_minor": 0,
  "metadata": {
    "colab": {
      "name": "PYTHON_EXERCISES.ipynb",
      "provenance": [],
      "collapsed_sections": [],
      "toc_visible": true
    },
    "kernelspec": {
      "name": "python3",
      "display_name": "Python 3"
    }
  },
  "cells": [
    {
      "cell_type": "markdown",
      "metadata": {
        "id": "cctyjDU9TtwY",
        "colab_type": "text"
      },
      "source": [
        "# PYTHON ÇALIŞMA REHBERİ\n",
        "\n",
        "\n",
        "**EREN BOZARIK / FOUNDER SMLR.CENTER / CO-FOUNDER OVO ANALYTICS**\n",
        "\n",
        "---\n",
        "\n",
        "\n",
        "\n",
        "*Acknowledgements* : \n",
        "Tayyip Alpar\n",
        "\n",
        "\n",
        "---\n",
        "\n"
      ]
    },
    {
      "cell_type": "markdown",
      "metadata": {
        "id": "YVZII85hTgLX",
        "colab_type": "text"
      },
      "source": [
        "### **Pythondaki Sayı Veri Tipleri**\n",
        "\n",
        "Tamsayılar(Integer) (Örnek olarak, -1000,34,2,0 gibi sayılar)\n",
        "\n",
        "Ondalıklı Sayı(Float) (Örnek olarak, 3.14, 3.554546, -13.54 gibi sayılar)"
      ]
    },
    {
      "cell_type": "code",
      "metadata": {
        "id": "_80RP7ycTFOt",
        "colab_type": "code",
        "colab": {}
      },
      "source": [
        "#Toplama\n",
        "3+8"
      ],
      "execution_count": 0,
      "outputs": []
    },
    {
      "cell_type": "code",
      "metadata": {
        "id": "LuLHjoWRTsqB",
        "colab_type": "code",
        "colab": {}
      },
      "source": [
        "#Çıkarma\n",
        "12-4"
      ],
      "execution_count": 0,
      "outputs": []
    },
    {
      "cell_type": "code",
      "metadata": {
        "id": "G9uXz9SSXUO6",
        "colab_type": "code",
        "colab": {}
      },
      "source": [
        "#Çarpma\n",
        "23*3"
      ],
      "execution_count": 0,
      "outputs": []
    },
    {
      "cell_type": "code",
      "metadata": {
        "id": "LRq_y1olXd2e",
        "colab_type": "code",
        "colab": {}
      },
      "source": [
        "#Bölme\n",
        "12/4"
      ],
      "execution_count": 0,
      "outputs": []
    },
    {
      "cell_type": "markdown",
      "metadata": {
        "id": "JUvtsOPmVZ-W",
        "colab_type": "text"
      },
      "source": [
        "**SORU : Aşağıdaki işlemi Python dilinde yazınız.**\n",
        "\n",
        "![alttext](https://latex.codecogs.com/png.download?%5Chuge%205+%288*120%29/3)"
      ]
    },
    {
      "cell_type": "code",
      "metadata": {
        "id": "XfKE-JU3Vt68",
        "colab_type": "code",
        "colab": {}
      },
      "source": [
        "#KODU BURAYA YAZINIZ (KODUN BAŞLANGICI)\n",
        "\n",
        "\n",
        "\n",
        "#KODU BURAYA YAZINIZ (KODUN BİTİŞİ)"
      ],
      "execution_count": 0,
      "outputs": []
    },
    {
      "cell_type": "markdown",
      "metadata": {
        "id": "88GoRgtenyvp",
        "colab_type": "text"
      },
      "source": [
        "**SORU : Aşağıdaki işlemin sonucunu** `465.333` **şeklinde elde edilecek biçimde düzenleyiniz.** \n",
        "\n",
        "![alt text](https://latex.codecogs.com/png.download?%5Chuge%205+34*27/2+3-5/3+2)"
      ]
    },
    {
      "cell_type": "code",
      "metadata": {
        "id": "O7oQOvXzoB6_",
        "colab_type": "code",
        "colab": {}
      },
      "source": [
        "#KODU BURAYA YAZINIZ (KODUN BAŞLANGICI)\n",
        "\n",
        "\n",
        "\n",
        "#KODU BURAYA YAZINIZ (KODUN BİTİŞİ)"
      ],
      "execution_count": 0,
      "outputs": []
    },
    {
      "cell_type": "markdown",
      "metadata": {
        "id": "raD-q8AmYQaD",
        "colab_type": "text"
      },
      "source": [
        "### **Değişken Tanımlama**\n"
      ]
    },
    {
      "cell_type": "markdown",
      "metadata": {
        "id": "VDIruwqL3_-9",
        "colab_type": "text"
      },
      "source": [
        "**Integer**"
      ]
    },
    {
      "cell_type": "code",
      "metadata": {
        "id": "td3AO37RYXxc",
        "colab_type": "code",
        "colab": {}
      },
      "source": [
        "i=10\n",
        "\n",
        "print(i)"
      ],
      "execution_count": 0,
      "outputs": []
    },
    {
      "cell_type": "markdown",
      "metadata": {
        "id": "-p2_B5Ne4Kwy",
        "colab_type": "text"
      },
      "source": [
        "**Float**"
      ]
    },
    {
      "cell_type": "code",
      "metadata": {
        "id": "ER9oyj7SYbiE",
        "colab_type": "code",
        "colab": {}
      },
      "source": [
        "x=3.7\n",
        "\n",
        "print(x)"
      ],
      "execution_count": 0,
      "outputs": []
    },
    {
      "cell_type": "markdown",
      "metadata": {
        "id": "jTknIUU24OaD",
        "colab_type": "text"
      },
      "source": [
        "**Bool**"
      ]
    },
    {
      "cell_type": "code",
      "metadata": {
        "id": "HC8MQ2woYd35",
        "colab_type": "code",
        "colab": {}
      },
      "source": [
        "y=True\n",
        "\n",
        "print(y)"
      ],
      "execution_count": 0,
      "outputs": []
    },
    {
      "cell_type": "markdown",
      "metadata": {
        "id": "USb0pJfV4CTb",
        "colab_type": "text"
      },
      "source": [
        "**String**"
      ]
    },
    {
      "cell_type": "code",
      "metadata": {
        "id": "z4Zp3jd_YgjB",
        "colab_type": "code",
        "colab": {}
      },
      "source": [
        "z= \"IEEE\"\n",
        "\n",
        "print(z)"
      ],
      "execution_count": 0,
      "outputs": []
    },
    {
      "cell_type": "code",
      "metadata": {
        "id": "ITaOrp6Kci96",
        "colab_type": "code",
        "colab": {}
      },
      "source": [
        "\"Eren Bozarik\"\n",
        "'Eren Bozarik'\n",
        "\"\"\"Eren Bozarik\"\"\"  \n",
        "\"Eren'in Arabasi' \n",
        "\"Eren'in Arabasi\"\n"
      ],
      "execution_count": 0,
      "outputs": []
    },
    {
      "cell_type": "markdown",
      "metadata": {
        "id": "ksIV_ITnXHWC",
        "colab_type": "text"
      },
      "source": [
        "**SORU : Adınız, Soyadınız ve Yaşınızı barındıran değişkenler tanımlayınız.**"
      ]
    },
    {
      "cell_type": "code",
      "metadata": {
        "id": "ovLo6bmGXS7T",
        "colab_type": "code",
        "colab": {}
      },
      "source": [
        "#KODU BURAYA YAZINIZ (KODUN BAŞLANGICI)\n",
        "\n",
        "\n",
        "\n",
        "#KODU BURAYA YAZINIZ (KODUN BİTİŞİ)"
      ],
      "execution_count": 0,
      "outputs": []
    },
    {
      "cell_type": "markdown",
      "metadata": {
        "id": "vgNynY57c76T",
        "colab_type": "text"
      },
      "source": [
        "### **Aritmetik İşlemler/Hesaplamalar**"
      ]
    },
    {
      "cell_type": "code",
      "metadata": {
        "id": "KKIMHLQYYlLr",
        "colab_type": "code",
        "colab": {}
      },
      "source": [
        "a=5\n",
        "b=6\n",
        "c=5**2*6+8\n",
        "\n",
        "print(c)"
      ],
      "execution_count": 0,
      "outputs": []
    },
    {
      "cell_type": "code",
      "metadata": {
        "id": "QCy-p7_Gambg",
        "colab_type": "code",
        "colab": {}
      },
      "source": [
        "pi_sayisi = 3.14 \n",
        "yaricap = 4 \n",
        "cevre = 2*pi_sayisi*yaricap \n",
        "print(cevre)"
      ],
      "execution_count": 0,
      "outputs": []
    },
    {
      "cell_type": "code",
      "metadata": {
        "id": "1bEhMz1NbBpg",
        "colab_type": "code",
        "colab": {}
      },
      "source": [
        "#DEĞİŞKENLERİN YER DEĞİŞTİRMESİ\n",
        "\n",
        "a = 4 \n",
        "b = 3 \n",
        "a,b = b,a \n",
        "\n",
        "print(a) \n",
        "print(b)"
      ],
      "execution_count": 0,
      "outputs": []
    },
    {
      "cell_type": "code",
      "metadata": {
        "id": "RsJZNWt0bJfD",
        "colab_type": "code",
        "colab": {}
      },
      "source": [
        "a = 5 \n",
        "a = a + 1 \n",
        "print(a)"
      ],
      "execution_count": 0,
      "outputs": []
    },
    {
      "cell_type": "code",
      "metadata": {
        "id": "GlQza-hQbS4w",
        "colab_type": "code",
        "colab": {}
      },
      "source": [
        "a = 21 \n",
        "print(a)\n",
        "a += 1 \n",
        "print(a)\n",
        "a *= 1 \n",
        "print(a)\n",
        "a -= 1 \n",
        "print(a)\n",
        "a/=1\n",
        "print(a)"
      ],
      "execution_count": 0,
      "outputs": []
    },
    {
      "cell_type": "markdown",
      "metadata": {
        "id": "m1XD-zV0X4mu",
        "colab_type": "text"
      },
      "source": [
        "**SORU : Yarıçapı 3 yüksekliği 2 olan silindirin alanını hesaplayınız. Silindirin alanı aşağıdaki formül ile hesaplanmaktadır.**\n",
        "\n",
        "![alt text](https://latex.codecogs.com/png.download?%5Chuge%202*%5Cpi*r*%28r+h%29)"
      ]
    },
    {
      "cell_type": "code",
      "metadata": {
        "id": "T-Lyt8-uYIzl",
        "colab_type": "code",
        "colab": {}
      },
      "source": [
        "#KODU BURAYA YAZINIZ (KODUN BAŞLANGICI)\n",
        "\n",
        "\n",
        "\n",
        "#KODU BURAYA YAZINIZ (KODUN BİTİŞİ)"
      ],
      "execution_count": 0,
      "outputs": []
    },
    {
      "cell_type": "markdown",
      "metadata": {
        "id": "9ZxERSLdbrfF",
        "colab_type": "text"
      },
      "source": [
        "### **Yorum Satırları**"
      ]
    },
    {
      "cell_type": "code",
      "metadata": {
        "id": "TfpGQlL_bur6",
        "colab_type": "code",
        "colab": {}
      },
      "source": [
        "# Tekli Yorum Satırı \n",
        "print(\"IEEE\") \n",
        "\n",
        "\"\"\" \n",
        "\n",
        "Çoklu Yorum Satırı \n",
        "\n",
        "\"\"\" \n",
        "\n",
        "print(\"IEEE\")\n"
      ],
      "execution_count": 0,
      "outputs": []
    },
    {
      "cell_type": "markdown",
      "metadata": {
        "id": "DfiTqhZXb8A2",
        "colab_type": "text"
      },
      "source": [
        "### +, -, *, / operatorlerine ek olarak\n",
        "\n",
        "Tamsayı Bölmesi (//)\n",
        "\n",
        "Kalanı Bulma (%)\n",
        "\n",
        "Üs bulma (**)\n"
      ]
    },
    {
      "cell_type": "code",
      "metadata": {
        "id": "qlar8rYQcIOx",
        "colab_type": "code",
        "colab": {}
      },
      "source": [
        "12.4//4.9"
      ],
      "execution_count": 0,
      "outputs": []
    },
    {
      "cell_type": "code",
      "metadata": {
        "id": "BDznRIpkcPTP",
        "colab_type": "code",
        "colab": {}
      },
      "source": [
        "12%7"
      ],
      "execution_count": 0,
      "outputs": []
    },
    {
      "cell_type": "code",
      "metadata": {
        "id": "_GoK66MzcRMv",
        "colab_type": "code",
        "colab": {}
      },
      "source": [
        "2**4"
      ],
      "execution_count": 0,
      "outputs": []
    },
    {
      "cell_type": "markdown",
      "metadata": {
        "id": "OImMqtdwm66P",
        "colab_type": "text"
      },
      "source": [
        "**SORU: 63 Sayısının 3'e bölümünden kalan sayıyı yazdırınız.**"
      ]
    },
    {
      "cell_type": "code",
      "metadata": {
        "id": "BS1CckEHnMMs",
        "colab_type": "code",
        "colab": {}
      },
      "source": [
        "#KODU BURAYA YAZINIZ (KODUN BAŞLANGICI)\n",
        "\n",
        "\n",
        "#KODU BURAYA YAZINIZ (KODUN BİTİŞİ)"
      ],
      "execution_count": 0,
      "outputs": []
    },
    {
      "cell_type": "markdown",
      "metadata": {
        "id": "t9pZyiBVcgT4",
        "colab_type": "text"
      },
      "source": [
        "### **Pythonda Karakter Dizileri (Stringler)**"
      ]
    },
    {
      "cell_type": "code",
      "metadata": {
        "id": "yd4aKEcmJV7B",
        "colab_type": "code",
        "colab": {}
      },
      "source": [
        "a = \"Merhaba\" \n",
        "print(a)\n",
        "a = \"Dunya\" \n",
        "print(a[0]) \n",
        "print(a[1]) \n",
        "print(a[2]) \n",
        "print(a[3]) \n",
        "print(a[4]) \n",
        "print(a[5]) \n",
        "print(a[6])"
      ],
      "execution_count": 0,
      "outputs": []
    },
    {
      "cell_type": "markdown",
      "metadata": {
        "id": "pJIuZZ4wnTXT",
        "colab_type": "text"
      },
      "source": [
        "**SORU :** `Statistics and Machine Learning Research Center` **ifadesindeki 6. değer ile 19. değeri yazdırınız.**\n",
        "\n",
        "---\n",
        "\n"
      ]
    },
    {
      "cell_type": "code",
      "metadata": {
        "id": "hSFEnUXGnrd8",
        "colab_type": "code",
        "colab": {}
      },
      "source": [
        "#KODU BURAYA YAZINIZ (KODUN BAŞLANGICI)\n",
        "\n",
        "\n",
        "\n",
        "#KODU BURAYA YAZINIZ (KODUN BİTİŞİ)"
      ],
      "execution_count": 0,
      "outputs": []
    },
    {
      "cell_type": "code",
      "metadata": {
        "id": "PaXTSNJIJk4u",
        "colab_type": "code",
        "colab": {}
      },
      "source": [
        "a = \"Statistics and Machine Learning Research Center\" \n",
        "# 4. indeksten başla 10.indekse kadar(dahil değil) al. \n",
        "print(a[4:10])\n",
        "# Başlangıç değeri belirtilmemişse en baştan başlayarak alır. \n",
        "print(a[:10]) \n",
        "# Bitiş değeri belirtilmemişse en sonuna kadar alır. \n",
        "print(a[4:]) \n",
        "# İki değer de belirtilmemişse tüm stringi al. \n",
        "print(a[:])"
      ],
      "execution_count": 0,
      "outputs": []
    },
    {
      "cell_type": "markdown",
      "metadata": {
        "id": "3L99kHWln2J6",
        "colab_type": "text"
      },
      "source": [
        "**SORU :** `Statistics and Machine Learning Research Center` **ifadesindeki 7. değerden sonraki değerleri yazdırınız.**\n",
        "\n"
      ]
    },
    {
      "cell_type": "code",
      "metadata": {
        "id": "sPBVSXkrn8E-",
        "colab_type": "code",
        "colab": {}
      },
      "source": [
        "#KODU BURAYA YAZINIZ (KODUN BAŞLANGICI)\n",
        "\n",
        "\n",
        "#KODU BURAYA YAZINIZ (KODUN BİTİŞİ)"
      ],
      "execution_count": 0,
      "outputs": []
    },
    {
      "cell_type": "code",
      "metadata": {
        "id": "OOb58iL4JqTS",
        "colab_type": "code",
        "colab": {}
      },
      "source": [
        "a = \"Statistics and Machine Learning Research Center\" \n",
        "print(len(a)) "
      ],
      "execution_count": 0,
      "outputs": []
    },
    {
      "cell_type": "markdown",
      "metadata": {
        "id": "QoUiplG-oCrs",
        "colab_type": "text"
      },
      "source": [
        "**SORU :** `Statistics and Machine Learning Research Center` **ifadesinin uzunluğunu yazdırınız.**"
      ]
    },
    {
      "cell_type": "code",
      "metadata": {
        "id": "Q9tZohx0oH-M",
        "colab_type": "code",
        "colab": {}
      },
      "source": [
        "#KODU BURAYA YAZINIZ (KODUN BAŞLANGICI)\n",
        "\n",
        "\n",
        "\n",
        "#KODU BURAYA YAZINIZ (KODUN BİTİŞİ)"
      ],
      "execution_count": 0,
      "outputs": []
    },
    {
      "cell_type": "markdown",
      "metadata": {
        "id": "VB_XZwWUJxef",
        "colab_type": "text"
      },
      "source": [
        "**Bir Hata Yapalım!**"
      ]
    },
    {
      "cell_type": "code",
      "metadata": {
        "id": "zjiO6oCcJt7V",
        "colab_type": "code",
        "colab": {}
      },
      "source": [
        "a = \"Statistics and Machine Learning Research Center\" \n",
        "a[0] = \"Y\"\n"
      ],
      "execution_count": 0,
      "outputs": []
    },
    {
      "cell_type": "markdown",
      "metadata": {
        "id": "oEXTmDJTrpvN",
        "colab_type": "text"
      },
      "source": [
        "**Hadi düzeltelim!**"
      ]
    },
    {
      "cell_type": "code",
      "metadata": {
        "id": "12DqFGbero--",
        "colab_type": "code",
        "colab": {}
      },
      "source": [
        "a=\"Statistics and Machine Learning Research Center\"\n",
        "\n",
        "a=list(a)\n",
        "print(a)\n",
        "\n",
        "a[0]=\"Y\"\n",
        "print(a)\n",
        "\n",
        "\n",
        "a=\"\".join(a)\n",
        "print(a)"
      ],
      "execution_count": 0,
      "outputs": []
    },
    {
      "cell_type": "markdown",
      "metadata": {
        "id": "cpGhuKUEs-FR",
        "colab_type": "text"
      },
      "source": [
        "**SORU:** *Türkiye Büyük Millet Meclisi* **ifadesindeki kelimelerin baş harflerini yazdırınız.**"
      ]
    },
    {
      "cell_type": "code",
      "metadata": {
        "id": "dmD3ziHFssWW",
        "colab_type": "code",
        "colab": {}
      },
      "source": [
        "#KODU BURAYA YAZINIZ (KODUN BAŞLANGICI)\n",
        "\n",
        "\n",
        "\n",
        "#KODU BURAYA YAZINIZ (KODUN BİTİŞİ)"
      ],
      "execution_count": 0,
      "outputs": []
    },
    {
      "cell_type": "markdown",
      "metadata": {
        "id": "fkh8UZlqJ6tM",
        "colab_type": "text"
      },
      "source": [
        "**Stringleri toplayalım yani birbirine ekleyelim.**"
      ]
    },
    {
      "cell_type": "code",
      "metadata": {
        "id": "188cMhqDJ135",
        "colab_type": "code",
        "colab": {}
      },
      "source": [
        "a = \"Statistics \" \n",
        "b = \" and Machine Learning  \" \n",
        "c = \"Research Center\" \n",
        "print(a + b + c) "
      ],
      "execution_count": 0,
      "outputs": []
    },
    {
      "cell_type": "markdown",
      "metadata": {
        "id": "6N5AdoJyp1Gc",
        "colab_type": "text"
      },
      "source": [
        "**SORU :** `Statistics and Machine Learning Research Center` **ifadesindeki her bir kelimeyi değişkende tutarak toplam ifadesi ile tek bir satırda gösteriniz.**"
      ]
    },
    {
      "cell_type": "code",
      "metadata": {
        "id": "BfJ_D_JCqEP-",
        "colab_type": "code",
        "colab": {}
      },
      "source": [
        "#KODU BURAYA YAZINIZ (KODUN BAŞLANGICI)\n",
        "\n",
        "\n",
        "\n",
        "#KODU BURAYA YAZINIZ (KODUN BİTİŞİ)"
      ],
      "execution_count": 0,
      "outputs": []
    },
    {
      "cell_type": "markdown",
      "metadata": {
        "id": "7LQSLEPhKBvb",
        "colab_type": "text"
      },
      "source": [
        "### **Veri Tipi Dönüşümleri**"
      ]
    },
    {
      "cell_type": "code",
      "metadata": {
        "id": "YMNgxkq0J-2d",
        "colab_type": "code",
        "colab": {}
      },
      "source": [
        "a = 43 \n",
        "print(float(a)) "
      ],
      "execution_count": 0,
      "outputs": []
    },
    {
      "cell_type": "code",
      "metadata": {
        "id": "1sGxx6ogKGcz",
        "colab_type": "code",
        "colab": {}
      },
      "source": [
        "print(int(4.7)) "
      ],
      "execution_count": 0,
      "outputs": []
    },
    {
      "cell_type": "markdown",
      "metadata": {
        "id": "tEvsLwDxq5sM",
        "colab_type": "text"
      },
      "source": [
        "**SORU : 23 Sayısını ondalık bir değere, 4.4 ondalık sayısını ise bir tam sayı değerine dönüştürünüz.**"
      ]
    },
    {
      "cell_type": "code",
      "metadata": {
        "id": "pequz2qPrBCF",
        "colab_type": "code",
        "colab": {}
      },
      "source": [
        "#KODU BURAYA YAZINIZ (KODUN BAŞLANGICI)\n",
        "\n",
        "\n",
        "\n",
        "#KODU BURAYA YAZINIZ (KODUN BİTİŞİ)"
      ],
      "execution_count": 0,
      "outputs": []
    },
    {
      "cell_type": "markdown",
      "metadata": {
        "id": "-6c-vMKFKQWC",
        "colab_type": "text"
      },
      "source": [
        "**Sayıları Stringlere Çevirme**"
      ]
    },
    {
      "cell_type": "code",
      "metadata": {
        "id": "IGX8QpReKRVA",
        "colab_type": "code",
        "colab": {}
      },
      "source": [
        "a = 32324324 \n",
        "b = str(a)\n",
        "print(b)\n",
        "print(len(b))"
      ],
      "execution_count": 0,
      "outputs": []
    },
    {
      "cell_type": "markdown",
      "metadata": {
        "id": "7vtbHVY9KsI5",
        "colab_type": "text"
      },
      "source": [
        "### **print() Fonksiyonu Formatları**\n",
        "\n",
        "**\\n karakteri**"
      ]
    },
    {
      "cell_type": "code",
      "metadata": {
        "id": "F15G04JzKTMT",
        "colab_type": "code",
        "colab": {}
      },
      "source": [
        "print(\"Merhaba,\\n Dünya\") "
      ],
      "execution_count": 0,
      "outputs": []
    },
    {
      "cell_type": "markdown",
      "metadata": {
        "id": "zUpK4UL-LKmX",
        "colab_type": "text"
      },
      "source": [
        "**\\t karakteri**"
      ]
    },
    {
      "cell_type": "code",
      "metadata": {
        "id": "vlOWLJywLMTS",
        "colab_type": "code",
        "colab": {}
      },
      "source": [
        "print(\"Ocak\\tMart\\tŞubat\")"
      ],
      "execution_count": 0,
      "outputs": []
    },
    {
      "cell_type": "markdown",
      "metadata": {
        "id": "sjjYujferef3",
        "colab_type": "text"
      },
      "source": [
        "**SORU : Aşağıdaki çıktıyı Python kodu ile gerçekleştiriniz.** \n",
        "\n",
        "```\n",
        "Merhaba\n",
        "\n",
        "Dünya\n",
        "\n",
        "```"
      ]
    },
    {
      "cell_type": "code",
      "metadata": {
        "id": "O37cDHbzr-wd",
        "colab_type": "code",
        "colab": {}
      },
      "source": [
        "#KODU BURAYA YAZINIZ (KODUN BAŞLANGICI)\n",
        "\n",
        "\n",
        "\n",
        "#KODU BURAYA YAZINIZ (KODUN BİTİŞİ)"
      ],
      "execution_count": 0,
      "outputs": []
    },
    {
      "cell_type": "markdown",
      "metadata": {
        "id": "RcP2EJmxLQXV",
        "colab_type": "text"
      },
      "source": [
        "**type() fonksiyonu**"
      ]
    },
    {
      "cell_type": "code",
      "metadata": {
        "id": "E1bqqvfiLREV",
        "colab_type": "code",
        "colab": {}
      },
      "source": [
        "# Integer (Tamsayı) türü \n",
        "a = 65 print(type(a)) \n",
        "# Float (Ondalıklı Sayı) türü \n",
        "a = 5.87 print(type(a))\n",
        "# String (Karakter Dizisi) türü \n",
        "a = \"SMLR\" print(type(a))\n"
      ],
      "execution_count": 0,
      "outputs": []
    },
    {
      "cell_type": "markdown",
      "metadata": {
        "id": "yd6LsCxru6fC",
        "colab_type": "text"
      },
      "source": [
        "**SORU : Bir tam sayı değeri tanımlayın ve tipini gösteriniz.**"
      ]
    },
    {
      "cell_type": "code",
      "metadata": {
        "id": "t1hIE3tLvG20",
        "colab_type": "code",
        "colab": {}
      },
      "source": [
        "#KODU BURAYA YAZINIZ (KODUN BAŞLANGICI)\n",
        "\n",
        "\n",
        "\n",
        "#KODU BURAYA YAZINIZ (KODUN BİTİŞİ)"
      ],
      "execution_count": 0,
      "outputs": []
    },
    {
      "cell_type": "markdown",
      "metadata": {
        "id": "c2quEOqjLbKs",
        "colab_type": "text"
      },
      "source": [
        "**sep parametresi**"
      ]
    },
    {
      "cell_type": "code",
      "metadata": {
        "id": "dhgXqva5Lagf",
        "colab_type": "code",
        "colab": {}
      },
      "source": [
        "print(3,4,5,6,7,8,9) \n",
        "# sep parametresi sayesinde değerlerin arasına nokta konuyor. \n",
        "print(3,4,5,6,7,8,9,sep = \".\") \n",
        "# Değerlerin arasında \"/\" sembolü yerleştiriliyor. \n",
        "print(\"03\",\"07\",\"2018\",sep = \"/\") \n",
        "print(\"Statistics\",\"Machine\",\"Learning\",sep = \"\\n\") \n"
      ],
      "execution_count": 0,
      "outputs": []
    },
    {
      "cell_type": "markdown",
      "metadata": {
        "id": "7pdkSNgF2DDD",
        "colab_type": "text"
      },
      "source": [
        "**SORU : 17, 10 ve 2019 sayılarını 17.10.2019 fortmatında yazınız.** "
      ]
    },
    {
      "cell_type": "code",
      "metadata": {
        "id": "jT94Ua_f4tuY",
        "colab_type": "code",
        "colab": {}
      },
      "source": [
        "#KODU BURAYA YAZINIZ (KODUN BAŞLANGICI)\n",
        "\n",
        "\n",
        "\n",
        "#KODU BURAYA YAZINIZ (KODUN BİTİŞİ)"
      ],
      "execution_count": 0,
      "outputs": []
    },
    {
      "cell_type": "markdown",
      "metadata": {
        "id": "ZiCGqS_mLoHj",
        "colab_type": "text"
      },
      "source": [
        "**Formatlama**"
      ]
    },
    {
      "cell_type": "code",
      "metadata": {
        "id": "Q1fp3OIpLn3q",
        "colab_type": "code",
        "colab": {}
      },
      "source": [
        "# Burada 3 tane süslü parantezimiz ({}) var ve bunların yerine sırasıyla format fonksiyonun içindeki değerler geçiyor. \n",
        "print(\"{} {} {}\".format(3.1423,5.324,7.324324)) \n",
        "\n",
        "a = 3 \n",
        "b = 4 \n",
        "print(\"{} + {} 'nin toplamı {} 'dır\".format(a,b,a+b)) \n",
        "\n",
        "# Süslü parantezlerin içindeki sayılar format fonksiyonun içinden hangi sıradaki değerin geleceğini söylüyor. \n",
        "print(\"{1} {0} {2}\".format(43,\"IMU\",54)) "
      ],
      "execution_count": 0,
      "outputs": []
    },
    {
      "cell_type": "code",
      "metadata": {
        "id": "V818yrVcniwA",
        "colab_type": "code",
        "colab": {}
      },
      "source": [
        "Ben=\"\"\"\n",
        "Ad:    {ad}\n",
        "Soyad: {soyad}\n",
        "Şehir: {sehir}\n",
        "\"\"\"\n",
        "print(Ben)\n",
        "\n",
        "\n",
        "Ben=Ben.format(ad=\"Eren\",soyad=\"Bozarık\",sehir=\"Istanbul\")\n",
        "print(Ben)"
      ],
      "execution_count": 0,
      "outputs": []
    },
    {
      "cell_type": "markdown",
      "metadata": {
        "id": "fGKJAsW27zCm",
        "colab_type": "text"
      },
      "source": [
        "**SORU : Adınızı ve Soyadınızı ayrı değişkenlerde tutunuz ve formatlama yöntemi ile** `Merhaba Adınız Soyadınız` **şeklinde bir çıktı alınız.**"
      ]
    },
    {
      "cell_type": "code",
      "metadata": {
        "id": "XjzIT6Wc8Wlw",
        "colab_type": "code",
        "colab": {}
      },
      "source": [
        "#KODU BURAYA YAZINIZ (KODUN BAŞLANGICI)\n",
        "\n",
        "\n",
        "\n",
        "#KODU BURAYA YAZINIZ (KODUN BİTİŞİ)"
      ],
      "execution_count": 0,
      "outputs": []
    },
    {
      "cell_type": "markdown",
      "metadata": {
        "id": "kyoEZwaJL3Ws",
        "colab_type": "text"
      },
      "source": [
        "### **Listeler**"
      ]
    },
    {
      "cell_type": "code",
      "metadata": {
        "id": "ojjskjnyL3Gw",
        "colab_type": "code",
        "colab": {}
      },
      "source": [
        "# liste değişkeni. Değişik veri tiplerinden değerleri saklayabiliyoruz.\n",
        "liste =  [3,4,5,6,\"Elma\",3.14,5.324]\n",
        "print(liste)"
      ],
      "execution_count": 0,
      "outputs": []
    },
    {
      "cell_type": "code",
      "metadata": {
        "id": "-LbKj3SdMH_-",
        "colab_type": "code",
        "colab": {}
      },
      "source": [
        "bos_liste = []\n",
        "print(boş_liste)"
      ],
      "execution_count": 0,
      "outputs": []
    },
    {
      "cell_type": "code",
      "metadata": {
        "id": "ZdYvLgoHMIy1",
        "colab_type": "code",
        "colab": {}
      },
      "source": [
        "# Boş liste list() fonksiyonuyla da oluşturulabilir.\n",
        "boş_liste = list()\n",
        "print(boş_liste)"
      ],
      "execution_count": 0,
      "outputs": []
    },
    {
      "cell_type": "code",
      "metadata": {
        "id": "cBNGb2VU9JhT",
        "colab_type": "code",
        "colab": {}
      },
      "source": [
        "bos_liste.append(\"SMLR\")\n",
        "print(boş_liste)"
      ],
      "execution_count": 0,
      "outputs": []
    },
    {
      "cell_type": "markdown",
      "metadata": {
        "id": "LQ_Nm503_hEa",
        "colab_type": "text"
      },
      "source": [
        "**SORU : Adınızı Soyadınızı ve Öğrenci Numaranızı barındıran 3 boş liste oluşturunuz ve bu listelere bilgilerinizi ekleyiniz.**"
      ]
    },
    {
      "cell_type": "code",
      "metadata": {
        "id": "PCalGJXD_xei",
        "colab_type": "code",
        "colab": {}
      },
      "source": [
        "#KODU BURAYA YAZINIZ (KODUN BAŞLANGICI)\n",
        "\n",
        "\n",
        "\n",
        "#KODU BURAYA YAZINIZ (KODUN BİTİŞİ)"
      ],
      "execution_count": 0,
      "outputs": []
    },
    {
      "cell_type": "markdown",
      "metadata": {
        "id": "wllUQGi_MPEM",
        "colab_type": "text"
      },
      "source": [
        "**Uzunluk ve Listeye Cevirme**"
      ]
    },
    {
      "cell_type": "code",
      "metadata": {
        "id": "C7Axdrw6ML7p",
        "colab_type": "code",
        "colab": {}
      },
      "source": [
        "liste3 = [3,4,5,6,6,7,8,9,0,0,0]\n",
        "print(len(liste3))"
      ],
      "execution_count": 0,
      "outputs": []
    },
    {
      "cell_type": "code",
      "metadata": {
        "id": "GEUV4bGfMWvx",
        "colab_type": "code",
        "colab": {}
      },
      "source": [
        "s =  \"Merhaba\"\n",
        "lst =  list(s)\n",
        "print(lst)"
      ],
      "execution_count": 0,
      "outputs": []
    },
    {
      "cell_type": "markdown",
      "metadata": {
        "id": "1vMtUFgMAO_n",
        "colab_type": "text"
      },
      "source": [
        "**SORU : Oluşturduğunuz listelerden bir tanesinin uzunluğunu yazdırınız.**"
      ]
    },
    {
      "cell_type": "code",
      "metadata": {
        "id": "noAT9Jx4AZhd",
        "colab_type": "code",
        "colab": {}
      },
      "source": [
        "#KODU BURAYA YAZINIZ (KODUN BAŞLANGICI)\n",
        "\n",
        "\n",
        "\n",
        "#KODU BURAYA YAZINIZ (KODUN BİTİŞİ)"
      ],
      "execution_count": 0,
      "outputs": []
    },
    {
      "cell_type": "markdown",
      "metadata": {
        "id": "KE_GcNEzwxxP",
        "colab_type": "text"
      },
      "source": [
        "**split() Fonksiyonu ile Parçalarına Ayırma**\n",
        "\n",
        "Bir stringi `split()` fonksiyonu kullanarak istediğimiz şekilde parçalarına ayırabiliriz.\n",
        "\n",
        "Hadi örnekleri inceleyelim!\n"
      ]
    },
    {
      "cell_type": "code",
      "metadata": {
        "id": "oBWHCHfhxbiQ",
        "colab_type": "code",
        "colab": {}
      },
      "source": [
        "#Örnekler\n",
        "\n",
        "x=\"Mustafa Kemal Atatürk\"\n",
        "print(x.split(\" \"))\n",
        "\n",
        "x=\"Research/Center\"\n",
        "print(x.split(\"/\"))\n",
        "\n",
        "x=\"Bugün nasılsınız?\"\n",
        "print(x.split(\"ı\"))\n",
        "\n",
        "KullaniciAdlari=\"@ebozarik @SMLRCENTER\"\n",
        "print(KullaniciAdlari.split(\" \"))"
      ],
      "execution_count": 0,
      "outputs": []
    },
    {
      "cell_type": "markdown",
      "metadata": {
        "id": "54wV4ackMc33",
        "colab_type": "text"
      },
      "source": [
        "### **Kullanicidan Input Alma**"
      ]
    },
    {
      "cell_type": "code",
      "metadata": {
        "id": "bxp5DM0OMaa8",
        "colab_type": "code",
        "colab": {}
      },
      "source": [
        "a = input(\"Lütfen bir sayı giriniz:\") # Kullanıcıdan aldığımız değer a değişkenine eşit olacak.\n",
        "print(\"Kullanıcının girdiği değer:\",a)"
      ],
      "execution_count": 0,
      "outputs": []
    },
    {
      "cell_type": "code",
      "metadata": {
        "id": "4tKJgYxsMi2V",
        "colab_type": "code",
        "colab": {}
      },
      "source": [
        "a = int(input(\"Birinci Sayı:\"))\n",
        "b = int(input(\"İkinci Sayı:\"))\n",
        "c = int(input(\"Üçüncü Sayı:\"))\n",
        " \n",
        "print(\"Toplamları:\",a+b+c)"
      ],
      "execution_count": 0,
      "outputs": []
    },
    {
      "cell_type": "markdown",
      "metadata": {
        "id": "LqUfEM-_OiZb",
        "colab_type": "text"
      },
      "source": [
        "**SORU : Kullanıcıdan AD-SOYAD bilgisini alınız ve bu bilgileri kullanarak** `Merhaba AD SOYAD` **şeklinde bir çıktı alınız**"
      ]
    },
    {
      "cell_type": "code",
      "metadata": {
        "id": "ZZjeqpSPPMi7",
        "colab_type": "code",
        "colab": {}
      },
      "source": [
        "#KODU BURAYA YAZINIZ (KODUN BAŞLANGICI)\n",
        "\n",
        "\n",
        "\n",
        "#KODU BURAYA YAZINIZ (KODUN BİTİŞİ)"
      ],
      "execution_count": 0,
      "outputs": []
    },
    {
      "cell_type": "markdown",
      "metadata": {
        "id": "dMZlfvwtPODq",
        "colab_type": "text"
      },
      "source": [
        "**SORU : Kullanıcıdan 3 sayı alınız ve bu bilgileri bir diziye ekleyiniz. Dizinin içindeki elemanların toplamlarını çıktı olarak gösteriniz.**"
      ]
    },
    {
      "cell_type": "code",
      "metadata": {
        "id": "cfZwurBPPfX1",
        "colab_type": "code",
        "colab": {}
      },
      "source": [
        "#KODU BURAYA YAZINIZ (KODUN BAŞLANGICI)\n",
        "\n",
        "\n",
        "\n",
        "#KODU BURAYA YAZINIZ (KODUN BİTİŞİ)"
      ],
      "execution_count": 0,
      "outputs": []
    },
    {
      "cell_type": "markdown",
      "metadata": {
        "id": "Q0U_Ob92MphG",
        "colab_type": "text"
      },
      "source": [
        "###**Mantıksal Değerler ve Karşılaştırma Operatörleri**"
      ]
    },
    {
      "cell_type": "code",
      "metadata": {
        "id": "GssYfzm9MmSk",
        "colab_type": "code",
        "colab": {}
      },
      "source": [
        "a =  True\n",
        "print(type(a))\n",
        "b = False\n",
        "print(type(b)) "
      ],
      "execution_count": 0,
      "outputs": []
    },
    {
      "cell_type": "code",
      "metadata": {
        "id": "ZkUlGIQUM1g4",
        "colab_type": "code",
        "colab": {}
      },
      "source": [
        "#Bir değer olup olmayışı ile alakalı bir durum\n",
        "print(bool(12.4))\n",
        "print(bool(0.0))\n",
        "print(bool(121212))\n",
        "print(bool(-1))"
      ],
      "execution_count": 0,
      "outputs": []
    },
    {
      "cell_type": "code",
      "metadata": {
        "id": "RlvLoc42N8Oh",
        "colab_type": "code",
        "colab": {}
      },
      "source": [
        "print(1 > 2) # 1, 2 den büyük olmadığı için sonuç False olacaktır.\n",
        "print(1 < 2) # 1, 2 den küçük olduğu için sonuç True olacaktır."
      ],
      "execution_count": 0,
      "outputs": []
    },
    {
      "cell_type": "code",
      "metadata": {
        "id": "vNX9LcNFOIXZ",
        "colab_type": "code",
        "colab": {}
      },
      "source": [
        "print(\"Eren\" == \"Bozarik\")\n",
        "print(\"Bahadir\" == \"Bahadir\")\n",
        "print(\"Mensure\" != \"Onur\")\n",
        "print(\"Hilal\" < \"Eren\") # Alfabetik olarak bakar. \n",
        "print(2 < 3)\n",
        "print(54 >= 54)\n",
        "print(98 > 32)   \n",
        "print(34 <= 45)"
      ],
      "execution_count": 0,
      "outputs": []
    },
    {
      "cell_type": "markdown",
      "metadata": {
        "id": "-4um_L79OoaO",
        "colab_type": "text"
      },
      "source": [
        "**and operatörü**"
      ]
    },
    {
      "cell_type": "code",
      "metadata": {
        "id": "pruWs8oWOblD",
        "colab_type": "code",
        "colab": {}
      },
      "source": [
        "print(1 < 2 and \"Eren\" == \"Emre\")\n",
        "print(2 > 3 and \"Gulsen\" == \"Gulsen\")\n",
        "print(2 == 2 and 3.14 < 2.54 and \"Mustafa\" != \"Armut\")"
      ],
      "execution_count": 0,
      "outputs": []
    },
    {
      "cell_type": "markdown",
      "metadata": {
        "id": "NyaDNgb6Oq76",
        "colab_type": "text"
      },
      "source": [
        "**or operatörü**"
      ]
    },
    {
      "cell_type": "code",
      "metadata": {
        "id": "xrQ4xUVrOsp8",
        "colab_type": "code",
        "colab": {}
      },
      "source": [
        "print(1 < 2 or \"Emel\" != \"Emel\")\n",
        "print(2 > 3 or \"Emel\" != \"Emel\")\n",
        "print(2 > 3 or \"Emel\" != \"Emel\" or 3.14 < 4.32)"
      ],
      "execution_count": 0,
      "outputs": []
    },
    {
      "cell_type": "markdown",
      "metadata": {
        "id": "MTCLSnGeO2bc",
        "colab_type": "text"
      },
      "source": [
        "**not operatörü**"
      ]
    },
    {
      "cell_type": "code",
      "metadata": {
        "id": "-eRkRuX9O4PS",
        "colab_type": "code",
        "colab": {}
      },
      "source": [
        "print(not 2 == 2)\n",
        "print(not \"Python\" == \"ASP\")"
      ],
      "execution_count": 0,
      "outputs": []
    },
    {
      "cell_type": "markdown",
      "metadata": {
        "id": "0SKpPcThPC--",
        "colab_type": "text"
      },
      "source": [
        "**Operatörleri Beraber Kullanma**"
      ]
    },
    {
      "cell_type": "code",
      "metadata": {
        "id": "yGjETWLoPEkP",
        "colab_type": "code",
        "colab": {}
      },
      "source": [
        "print(not (2.14 > 3.49 or ( 2 != 2 and \"Mustafa\" == \"Mustafa\")))\n",
        "print(\"Ev\" < \"Market\" and ( \"Baby\" < \"Kid\" or (not 14 )))"
      ],
      "execution_count": 0,
      "outputs": []
    },
    {
      "cell_type": "markdown",
      "metadata": {
        "id": "2nR7ffxBPQy-",
        "colab_type": "text"
      },
      "source": [
        "### **if() koşulu**"
      ]
    },
    {
      "cell_type": "code",
      "metadata": {
        "id": "GEgLcPUePUMA",
        "colab_type": "code",
        "colab": {}
      },
      "source": [
        "a = 2  \n",
        "if (a == 2):\n",
        "    print(a) # Blok 2'ye ait kod\n",
        "    \n",
        "print(\"Merhaba\") # Blok 1 ' ait kod"
      ],
      "execution_count": 0,
      "outputs": []
    },
    {
      "cell_type": "code",
      "metadata": {
        "id": "9issHO2vQVEZ",
        "colab_type": "code",
        "colab": {}
      },
      "source": [
        "a = 2 # Blok 1 'e ait kod\n",
        " \n",
        "if (a == 3):\n",
        "    print(a) # Blok 2'ye ait kod\n",
        "    \n",
        "print(\"Merhaba\") # Blok 1 ' ait kod\n",
        " "
      ],
      "execution_count": 0,
      "outputs": []
    },
    {
      "cell_type": "code",
      "metadata": {
        "id": "ApyIpvePQbH5",
        "colab_type": "code",
        "colab": {}
      },
      "source": [
        "sayi = int (input(\"Sayıyı giriniz:\"))\n",
        " \n",
        "if (sayi < 0):\n",
        "    print(\"Negatif Sayı\")"
      ],
      "execution_count": 0,
      "outputs": []
    },
    {
      "cell_type": "markdown",
      "metadata": {
        "id": "1T_pcQWrQjGE",
        "colab_type": "text"
      },
      "source": [
        "### **Yaş Kontrol Uygulaması**"
      ]
    },
    {
      "cell_type": "code",
      "metadata": {
        "id": "-FLFC78tQoSw",
        "colab_type": "code",
        "colab": {}
      },
      "source": [
        "# 18 yaş kontrolü\n",
        "yaş = int(input(\"Yaşınızı giriniz:\"))\n",
        "\n",
        "if (yaş < 18):\n",
        "    # if bloğu -  Girinti ile sağlanıyor.\n",
        "    print(\"Bu mekana giremezsiniz.\")\n",
        "    \n",
        "print(\"Mekana hoşgeldiniz.\")"
      ],
      "execution_count": 0,
      "outputs": []
    },
    {
      "cell_type": "code",
      "metadata": {
        "id": "cS1msGlPQv7z",
        "colab_type": "code",
        "colab": {}
      },
      "source": [
        "# 18 yaş kontrolü\n",
        "yaş = int(input(\"Yaşınızı giriniz:\"))\n",
        " if (yaş < 18):\n",
        "    # if bloğu -  Girinti ile sağlanıyor.\n",
        "    print(\"Bu mekana giremezsiniz.\")\n",
        "else:\n",
        "    # else bloğu -  if koşulu sağlanmazsa çalışacak.\n",
        "    print(\"Mekana hoşgeldiniz.\")"
      ],
      "execution_count": 0,
      "outputs": []
    },
    {
      "cell_type": "markdown",
      "metadata": {
        "id": "e3PjbTNHQ72h",
        "colab_type": "text"
      },
      "source": [
        "**SORU : Vizenin %50'si ve Final sınavının %50'si alınan bir üniversitede geçme notu 45'dir. Kullanıcıdan Vize-Final bilgisini alıp gerekli hesaplamaları yaptıktan sonra dersten geçip kalma durumunu belirleyen programı yazınız.**"
      ]
    },
    {
      "cell_type": "code",
      "metadata": {
        "id": "amQQGSduRV8X",
        "colab_type": "code",
        "colab": {}
      },
      "source": [
        "#KODU BURAYA YAZINIZ (KODUN BAŞLANGICI)\n",
        "\n",
        "\n",
        "\n",
        "#KODU BURAYA YAZINIZ (KODUN BİTİŞİ)"
      ],
      "execution_count": 0,
      "outputs": []
    },
    {
      "cell_type": "markdown",
      "metadata": {
        "id": "DYpxJA0ERvX5",
        "colab_type": "text"
      },
      "source": [
        "**SORU : Bir yolcu seyehat etmek için bilet satın alacaktır. Eğer seçtiği koltuk numarası:**\n",
        "\n",
        "*   1-10 aralığında ise 100TL\n",
        "*   11-20 aralığında ise 80TL\n",
        "*   21-30 aralığında ise 60TL \n",
        "\n",
        "**ücretlendirme yapılacaktır.**\n",
        "\n",
        "\n",
        "\n",
        "**Aynı zamanda bagaj seçimi ücrete ilave edilecektir.**\n",
        "* 15KG Bagaj 20TL\n",
        "* 20KG Bagaj 30TL\n",
        "* 30KG Bagaj 40TL \n",
        "\n",
        "**olarak ücrete ilave edilen yolcu otomasyon programını geliştiriniz.**"
      ]
    },
    {
      "cell_type": "code",
      "metadata": {
        "id": "qdhgSFOsS6ei",
        "colab_type": "code",
        "colab": {}
      },
      "source": [
        "#KODU BURAYA YAZINIZ (KODUN BAŞLANGICI)\n",
        "\n",
        "\n",
        "\n",
        "#KODU BURAYA YAZINIZ (KODUN BİTİŞİ)"
      ],
      "execution_count": 0,
      "outputs": []
    },
    {
      "cell_type": "markdown",
      "metadata": {
        "id": "KO7HCM2SQ2PV",
        "colab_type": "text"
      },
      "source": [
        "### **for() Döngüsü**"
      ]
    },
    {
      "cell_type": "code",
      "metadata": {
        "id": "1EjHPHcHQ6XB",
        "colab_type": "code",
        "colab": {}
      },
      "source": [
        "liste = [1,2,3,4,5,6,7]\n",
        " \n",
        "for eleman in liste:\n",
        "    print(\"Eleman\",eleman)"
      ],
      "execution_count": 0,
      "outputs": []
    },
    {
      "cell_type": "code",
      "metadata": {
        "id": "nLcTdqonRAe_",
        "colab_type": "code",
        "colab": {}
      },
      "source": [
        "# Liste elemanlarını toplama\n",
        "liste = [1,2,3,4,5,6,7]\n",
        "toplam = 0\n",
        "for eleman in liste:\n",
        "    toplam += eleman\n",
        "print(\"Toplam\",toplam)"
      ],
      "execution_count": 0,
      "outputs": []
    },
    {
      "cell_type": "code",
      "metadata": {
        "id": "9z3Id0QVREWI",
        "colab_type": "code",
        "colab": {}
      },
      "source": [
        "# Çift elemanları bastırma\n",
        "liste = [1,2,3,4,5,6,7,8,9]\n",
        " \n",
        "for eleman in liste:\n",
        "    if eleman % 2 == 0:\n",
        "        print(eleman)"
      ],
      "execution_count": 0,
      "outputs": []
    },
    {
      "cell_type": "code",
      "metadata": {
        "id": "3ZfAJBNZRFsj",
        "colab_type": "code",
        "colab": {}
      },
      "source": [
        "s =  \"Python\"\n",
        "for karakter in s:\n",
        "    print(karakter)"
      ],
      "execution_count": 0,
      "outputs": []
    },
    {
      "cell_type": "code",
      "metadata": {
        "id": "0L5F8wSVRJQ_",
        "colab_type": "code",
        "colab": {}
      },
      "source": [
        "# Listelerin için 2 boyutlu demetler\n",
        " \n",
        "liste = [(1,2),(3,4),(5,6),(7,8)]\n",
        " \n",
        "for eleman in liste:\n",
        "    print(eleman) \n",
        "# Herbir elemanın  demet olduğu görebiliyoruz."
      ],
      "execution_count": 0,
      "outputs": []
    },
    {
      "cell_type": "markdown",
      "metadata": {
        "id": "mLsQO1ylUYSb",
        "colab_type": "text"
      },
      "source": [
        "**range()**"
      ]
    },
    {
      "cell_type": "code",
      "metadata": {
        "id": "mPdORwvkUblY",
        "colab_type": "code",
        "colab": {}
      },
      "source": [
        "for x in range(0,10,2):\n",
        "  print(x)"
      ],
      "execution_count": 0,
      "outputs": []
    },
    {
      "cell_type": "markdown",
      "metadata": {
        "id": "iVktrxy7U2e-",
        "colab_type": "text"
      },
      "source": [
        "**SORU : 1 ile 100 arasında 2'ye tam bölünebilen sayıları yazdırınız.**"
      ]
    },
    {
      "cell_type": "code",
      "metadata": {
        "id": "f7KNje7ZU-ZB",
        "colab_type": "code",
        "colab": {}
      },
      "source": [
        "#KODU BURAYA YAZINIZ (KODUN BAŞLANGICI)\n",
        "\n",
        "\n",
        "\n",
        "#KODU BURAYA YAZINIZ (KODUN BİTİŞİ)"
      ],
      "execution_count": 0,
      "outputs": []
    },
    {
      "cell_type": "markdown",
      "metadata": {
        "id": "Lh6fCFA1VF7v",
        "colab_type": "text"
      },
      "source": [
        "**SORU : Kullanıcıdan kaç veri gireceği bilgisini alınız. Bu bilgi kadar kullanıcıdan verileri alınız. Alınan bu verileri bir listede tutunuz. Bu listeyi çıktı olarak gösteriniz.**"
      ]
    },
    {
      "cell_type": "code",
      "metadata": {
        "id": "cb2I_zC7VdTf",
        "colab_type": "code",
        "colab": {}
      },
      "source": [
        "#KODU BURAYA YAZINIZ (KODUN BAŞLANGICI)\n",
        "\n",
        "\n",
        "\n",
        "#KODU BURAYA YAZINIZ (KODUN BİTİŞİ)"
      ],
      "execution_count": 0,
      "outputs": []
    },
    {
      "cell_type": "markdown",
      "metadata": {
        "id": "EVFYKV20RRAB",
        "colab_type": "text"
      },
      "source": [
        "### **Fonksiyonlar def()**\n",
        "\n",
        "![alt text](https://latex.codecogs.com/png.download?%5Chuge%20f%28malzemeler%29%3Durun)\n",
        "\n",
        "![alt text](https://latex.codecogs.com/png.download?%5Chuge%20f%28x%29%3Dx%5E2)"
      ]
    },
    {
      "cell_type": "code",
      "metadata": {
        "id": "7BBxg1t9RUoN",
        "colab_type": "code",
        "colab": {}
      },
      "source": [
        "# Toplama fonksiyonu\n",
        "def toplama(a,b,c):\n",
        "    print(\"Toplamları:\",a+b+c)\n",
        "    \n",
        "    \n",
        "toplama(3,4,5)\n",
        "toplama(10,11,29)\n",
        "toplama(4,9,40)"
      ],
      "execution_count": 0,
      "outputs": []
    },
    {
      "cell_type": "code",
      "metadata": {
        "id": "PksV3BFASJH7",
        "colab_type": "code",
        "colab": {}
      },
      "source": [
        "def selamla(isim): # isim değişkenimiz burada parametre olmaktadır\n",
        "    print(\"Merhaba:\",isim)\n",
        "  \n",
        "selamla(\"Kemal\") # \"Kemal\" değeri burada  argüman olmaktadır. \n",
        "selamla(\"Ayşe\") # \"Ayşe\" değeri burada  argüman olmaktadır. \n"
      ],
      "execution_count": 0,
      "outputs": []
    },
    {
      "cell_type": "markdown",
      "metadata": {
        "id": "_PyDv7_RSRbT",
        "colab_type": "text"
      },
      "source": [
        "### Return Değeri"
      ]
    },
    {
      "cell_type": "code",
      "metadata": {
        "id": "rvh5aJvISTKl",
        "colab_type": "code",
        "colab": {}
      },
      "source": [
        "def toplama(a,b,c): # Birinci fonksiyon\n",
        "    print(\"Toplamları\",a+b+c)\n",
        "    \n",
        "def ikiylecarp(a): # İkinci fonksiyon\n",
        "    print(\"2 ile çarpılmış hali\", a * 2)\n",
        "    \n",
        "toplam = toplama(3,4,5)\n",
        "\n",
        "ikiylecarp(toplam) #HATA GELİYOOOOR!\n"
      ],
      "execution_count": 0,
      "outputs": []
    },
    {
      "cell_type": "code",
      "metadata": {
        "id": "lnQ8XgSRSyAt",
        "colab_type": "code",
        "colab": {}
      },
      "source": [
        "print(type(toplam))"
      ],
      "execution_count": 0,
      "outputs": []
    },
    {
      "cell_type": "code",
      "metadata": {
        "id": "KBCSDFzxSzYp",
        "colab_type": "code",
        "colab": {}
      },
      "source": [
        "def toplama(a,b,c):\n",
        "    return a+b+c # return'un kullanımı \n",
        "def ikiyle_carp(a):\n",
        "    return a*2\n",
        "toplam = toplama(3,4,5)\n",
        "print(ikiyle_carp(toplam))"
      ],
      "execution_count": 0,
      "outputs": []
    },
    {
      "cell_type": "code",
      "metadata": {
        "id": "TC3TB1oQS2kz",
        "colab_type": "code",
        "colab": {}
      },
      "source": [
        "def uclecarp(a):\n",
        "    print(\"1.fonksiyon çalıştı\")\n",
        "    return a*3\n",
        "def ikiyletopla(a):\n",
        "    print(\"2.fonksiyon çalıştı\")\n",
        "    return a + 2\n",
        "def dordebol(a):\n",
        "    print(\"3.fonksiyon çalıştı\")\n",
        "    return a / 4\n",
        "  \n",
        "# 3 ünü beraber kullanalım.\n",
        "print(dordebol(ikiyletopla(uclecarp(5))))\n"
      ],
      "execution_count": 0,
      "outputs": []
    },
    {
      "cell_type": "code",
      "metadata": {
        "id": "8dLqtuiFTCdJ",
        "colab_type": "code",
        "colab": {}
      },
      "source": [
        "def toplama(a,b,c):\n",
        "    print(\"Toplama fonksiyonu\") \n",
        "  \n",
        "    return a + b + c\n",
        "  \n",
        "toplama(1,2,3)\n"
      ],
      "execution_count": 0,
      "outputs": []
    },
    {
      "cell_type": "markdown",
      "metadata": {
        "id": "pZmUa07zaEel",
        "colab_type": "text"
      },
      "source": [
        "**SORU : Toplama, Çıkarma, Çarpma ve Bölme fonksiyonlarınızı oluşturunuz. Kullanıcıdan 2 sayı ve 1 işlem isteyiniz. Bu veriler doğrultusunda bu 2 sayı için yapılmak istenen işlemi gerçekleştiriniz.**"
      ]
    },
    {
      "cell_type": "code",
      "metadata": {
        "id": "qGb_KZ5qaZTJ",
        "colab_type": "code",
        "colab": {}
      },
      "source": [
        "#KODU BURAYA YAZINIZ (KODUN BAŞLANGICI)\n",
        "\n",
        "\n",
        "\n",
        "#KODU BURAYA YAZINIZ (KODUN BİTİŞİ)"
      ],
      "execution_count": 0,
      "outputs": []
    },
    {
      "cell_type": "markdown",
      "metadata": {
        "id": "G7ZP-hGSbs0F",
        "colab_type": "text"
      },
      "source": [
        "**SORU : İkinci dereceden bir denklemin köklerini bulan fonksiyon(ları) yazınız.**\n",
        "\n",
        "![alt text](https://latex.codecogs.com/png.download?%5Chuge%20ax%5E2+bx+c)\n",
        "\n",
        "\n",
        "---\n",
        "\n",
        "\n",
        "![alt text](https://latex.codecogs.com/png.download?%5Chuge%20%5CDelta%20%3Db%5E2-4*a*c)\n",
        "\n",
        "\n",
        "---\n",
        "\n",
        "\n",
        "![alt text](https://latex.codecogs.com/png.download?%5Chuge%20x_%7B1%2C2%7D%3D%5Cfrac%7B-b%5Cmp%20%5Csqrt%7B%5CDelta%7D%7D%7B2*a%7D)"
      ]
    },
    {
      "cell_type": "code",
      "metadata": {
        "id": "zD8jZ46mb2CI",
        "colab_type": "code",
        "colab": {}
      },
      "source": [
        "#KODU BURAYA YAZINIZ (KODUN BAŞLANGICI)\n",
        "\n",
        "\n",
        "\n",
        "#KODU BURAYA YAZINIZ (KODUN BİTİŞİ)"
      ],
      "execution_count": 0,
      "outputs": []
    },
    {
      "cell_type": "markdown",
      "metadata": {
        "id": "_g5vvnPTmm5P",
        "colab_type": "text"
      },
      "source": [
        "## EK BİLGİLER"
      ]
    },
    {
      "cell_type": "markdown",
      "metadata": {
        "id": "rsFeOwWIp2yA",
        "colab_type": "text"
      },
      "source": [
        "**Kütüphaneler**"
      ]
    },
    {
      "cell_type": "code",
      "metadata": {
        "id": "36hbOY3Cp7y7",
        "colab_type": "code",
        "colab": {}
      },
      "source": [
        "import numpy as np\n",
        "import pandas as pd\n",
        "import matplotlib.pyplot as plt"
      ],
      "execution_count": 0,
      "outputs": []
    },
    {
      "cell_type": "markdown",
      "metadata": {
        "id": "CjWSBV_-ku4b",
        "colab_type": "text"
      },
      "source": [
        "**Colab Ortamında Dosya Oluşturma**"
      ]
    },
    {
      "cell_type": "code",
      "metadata": {
        "id": "nQv6t0ZNdrMy",
        "colab_type": "code",
        "colab": {}
      },
      "source": [
        "!cat > dosya.py"
      ],
      "execution_count": 0,
      "outputs": []
    },
    {
      "cell_type": "markdown",
      "metadata": {
        "id": "YQhmZHtokyST",
        "colab_type": "text"
      },
      "source": [
        "**Oluşturulan Dosyada İşlem Yapma**"
      ]
    },
    {
      "cell_type": "code",
      "metadata": {
        "id": "XaxzjloeeEEO",
        "colab_type": "code",
        "colab": {}
      },
      "source": [
        "import dosya\n",
        "dosya.islemyap.toplama(3,5)"
      ],
      "execution_count": 0,
      "outputs": []
    }
  ]
}